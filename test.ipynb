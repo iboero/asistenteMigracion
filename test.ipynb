{
 "cells": [
  {
   "cell_type": "code",
   "execution_count": 1,
   "metadata": {},
   "outputs": [],
   "source": [
    "import dill\n",
    "import os\n",
    "path = \"./Manuales_migracion/\"\n",
    "manuales = []\n",
    "for filename in os.listdir(path):\n",
    "    with open(path + filename, 'rb') as file:\n",
    "        manuales.append(dill.load(file))\n",
    "# for m in manuales:\n",
    "#     if m.title == \"Manual Proceso de Migracion\":\n",
    "#         manuales.remove(m)\n",
    "#         manual_general = m\n",
    "\n",
    "    \n",
    "def get_section(self, section_number):\n",
    "    result = []\n",
    "    for section_n in self.contents:\n",
    "        if section_n.startswith(section_number):\n",
    "            level = section_n.count('.') + 1\n",
    "            result.append(level*\"#\" + self.index_map[section_n].strip() + ':\\n' + self.contents[section_n])\n",
    "    if len(result)==0:\n",
    "        result = f\"Section {section_number} doesnt exist\"\n",
    "    else:\n",
    "        result =  \"\\n\".join(result)\n",
    "    return result"
   ]
  },
  {
   "cell_type": "code",
   "execution_count": 34,
   "metadata": {},
   "outputs": [],
   "source": [
    "for instance in manuales:\n",
    "    setattr(instance, 'get_section', get_section.__get__(instance, type(instance)))"
   ]
  },
  {
   "cell_type": "code",
   "execution_count": 7,
   "metadata": {},
   "outputs": [
    {
     "data": {
      "text/plain": [
       "'#Ciclo de Migraciones:\\n\\n##Introducción:\\nMANUAL DE INSTALADOR\\n|\\nDescripción del negocio\\nLos objetivos de este documento son:\\nDetallar el ciclo de migraciones.\\nDescribir el diseño de las tablas correspondientes a bandejas de migraciones, enfocadas desde el punto de vista de Cuentas y Personas.\\nComentar el detalle de los errores reportados por el proceso de migraciones.\\nCiclo de Migraciones\\nEn términos generales, la migración de Cuentas y Personas consiste en la generación de estructuras de “Clientes” que efectúan operaciones con el Banco y “No Clientes” (como por ejemplo proveedores, bancos corresponsales, empleados, etc.).  Asimismo, también se contempla la generación de las personas que integran dichas Cuentas.\\nLa generación de estructuras se lleva a cabo en las siguientes instancias:\\nGeneración de estructuras en Bandejas.\\nControl de calidad de datos de Bandejas.\\nPasaje de estructuras de tablas Bantotal.\\nAdicionalmente, debe tenerse en cuenta que previo a la migración de Cuentas y Personas debe disponerse de información generada en tablas de parámetros generales.\\nLa carga de todas las bandejas se debe realizar a la vez, con excepción de aquellas que son opcionales.\\nLas opcionales son las siguientes:\\nBJD201 - Listas Negras - La tabla destino en Bantotal es la FSD201\\nBJE102 - Referencias de personas - La tabla destino en Bantotal es la FSE102\\nBJE103 - Contactos de personas - La tabla destino en Bantotal es la FSE103\\nBJX001 - Textos a nivel de persona  - FSX001\\nBJX008 - Textos a nivel de Cuenta cliente - FSX008\\nBJE108. - Historia de habilitaciones a nivel de Cuenta - FSE108\\nAdicionalmente permite cargar los impuestos a nivel de Personas, a nivel de Productos o a nivel de Cuentas. Tener en cuenta que para ingresar los impuestos por Producto deben estar estos ya ingresados al Sistema, por lo cual es una migración particular que debe ejecutarse luego de la carga de los productos.\\nBNJTI1 - Condición impositiva personas\\nBNJTI2. - Condición impositiva cuentas\\n##Migraciones Previas:\\nLa migración de cuentas y personas no requiere migraciones previas.\\nExiste sólo una excepción que es para la Migración de Impuestos a nivel de Productos.  Para estos deben estar cargados en el sistema todos los Productos, por lo cual debe realizarse al final del proceso de Migraciones.\\n##Generación de Estructuras de Bandejas:\\nEl banco debe cargar en las siguientes bandejas los datos correspondientes a la migración de Cuentas y Personas:\\n<table>\\nBANDEJA,CONCEPTO,TABLA EQUIVALENTE BANTOTAL\\nBJD001,Almacena información relativa a las Personas,FSD001 FSE001 FSD703 FSD704\\nBJD002,Almacena información relativa a las Personas Físicas,FSD002 FSE002 FSE101 SNGC11\\nBJD003,Almacena información relativa a las Personas Jurídicas,FSD003 FSE003 FSD704\\nBJD004,Almacena información relativa a las Instituciones Financieras.,FSD004\\nBNGC13,Almacena información relativa a los Domicilios de cuentas y Personas,SNGC13 SNGC32 FSD005 FSD006\\nBJR005,Almacena información relativa sobre teléfonos de Cuentas y Personas,FSR005 FSR006\\nBJD008,Almacena información relativa sobre las Cuentas,FSD008 FSE008\\nBJR008,Almacena información relativa sobre la Integración de las Cuentas,FSR008\\nBJD009,Almacena información relativa sobre los Grupos de Cuentas,FSD009\\nBJD201,Almacena información relativa sobre Listas Negras,FSD201\\nBJR001,Almacena información relativa sobre otros documentos de las Personas,FSR001\\nBJR002,Almacena información relativa sobre Relaciones Personales de Personas Físicas.,FSR002\\nBJR003,Almacena información relativa sobre Integración de Personas Jurídicas.,FSR003\\nBJR004,Almacena información relativa sobre Inst. Financieras informando las Cuenta(s)  nuestra(s) en el exterior.,FSR004\\nBJX001,Almacena información relativa sobre Textos de Persona.,FSX001\\nBJX008,Almacena información relativa sobre Textos de Cliente.,FSX008\\nBJE102,Almacena información relativa sobre Referencias de Personas.,FSE102\\nBNJTI1,Almacena información relativa a impuestos de personas,TI0001\\nBNJTI2,Almacena información relativa a impuestos de productos,TI0002\\nBNGC60,Almacena información relativa a actividades económicas,SNGC60\\nBNGC11,Almacena información adicional personas,SNGC11\\nBJD01A,Almacena datos auxiliares para Cuentas y Personas,SNGC72\\n</table>\\n\\nLa descripción de los campos de dicha bandeja puede encontrarse en el Capítulo 2 de este Manual.\\n##Control de Calidad de Datos de Bandejas:\\n\\n###Programas de Control:\\nLas bandejas tienen asociados programas de control, los cuales verifican la coherencia e integridad de la información generada.\\nProgramas de Control referidos a personas:\\n<table>\\nPROGRAMA DE CONTROL,BANDEJA ASOCIADA,DESCRIPCIÓN\\nPBCD001,BJD001 BJD002 BJD003 BJD004,Dicho programa recorre la tabla BJD001; tomando aquellos registros con estado ‘P’; y realiza determinadas validaciones.  Dependiendo del tipo de persona de que se trate (Física; Jurídica o Inst. Financiera) se invocará al PBCD0012; al PBCD0013; o bien al PBCD0014; respectivamente. Cada uno de ellos recorrerá la tabla correspondiente; BJD002 o BJD003 o BJD004 respectivamente y realizará determinadas validaciones.\\nPBCD005,BNGC13 BJR005,Dicho programa recorre la tabla BNGC13; tomando aquellos registros con estado ‘P’; y realiza determinadas validaciones.  A su vez; recorre la tabla BJR005 si es que existen registros en dicha tabla para la misma persona que se está validando en la tabla BNGC13.  Debe estar migrada previamente la persona; es decir; la persona debe existir en la tabla FSD001 (Bantotal).\\nPBCD201,BJD201,Dicho programa recorre la tabla BJD201 tomando aquellos registros con estado ‘P’; y realiza determinadas validaciones.\\nPBCE103,BJE103,Dicho programa recorre la tabla BJE103 tomando aquellos registros con estado ‘P’; y realiza determinadas validaciones.  Debe estar migrada previamente la persona; es decir; la persona jurídica debe existir en la tabla FSD003 (Bantotal).\\nPBCR002,BJR002,Dicho programa recorre la tabla BJR002 tomando aquellos registros con estado ‘P’; y realiza determinadas validaciones.  Debe estar migrada previamente la persona; es decir; la persona física debe existir en la tabla FSD002 (Bantotal).\\nPBCR003,BJR003,Dicho programa recorre la tabla BJR003 tomando aquellos registros con estado ‘P’; y realiza determinadas validaciones.  Debe estar migrada previamente la persona; es decir; la persona jurídica debe existir en la tabla FSD003 (Bantotal).\\nPBCR004,BJR004,Dicho programa recorre la tabla BJR004 tomando aquellos registros con estado ‘P’; y realiza determinadas validaciones.  Debe estar migrada previamente la persona; es decir; la persona que es Inst. Financiera debe existir en la tabla FSD004 (Bantotal).\\n</table>\\n\\nProgramas de Control referidos a Cuentas:\\n<table>\\nPROGRAMA DE CONTROL,BANDEJA ASOCIADA,DESCRIPCIÓN\\nPBCD008,BJD008,Dicho programa recorre la tabla BJD008 tomando aquellos registros con estado ‘P’; y realiza determinadas validaciones\\nPBCE108,BJE108,Dicho programa recorre la tabla BJE108; tomando aquellos registros con estado ‘P’; y realiza determinadas validaciones.  Debe estar migrada previamente la cuenta; es decir; la cuenta debe existir en la tabla FSD008 (Bantotal). No obligatorio.\\nPBCR008,BJR008,Dicho programa recorre la tabla BJR008; tomando aquellos registros con estado ‘P’; y realiza determinadas validaciones.  Debe estar migrada previamente la cuenta; es decir; la cuenta debe existir en la tabla FSD008 (Bantotal). Y a su vez deben estar migradas previamente; la persona que integran dicha cuentas; es decir; deben existir en la tabla FSD001 (Bantotal).\\nPBCD009,BJD009,Dicho programa recorre la tabla BJD009; tomando aquellos registros con estado ‘P’; y realiza determinadas validaciones.  Debe estar migrada previamente la cuenta; es decir; la cuenta debe existir en la tabla FSD008 (Bantotal).\\nPBCX008,BJX008,Dicho programa recorre la tabla BJX008; tomando aquellos registros con estado ‘P’; y realiza determinadas validaciones.  Debe estar migrada previamente la cuenta; es decir; la cuenta debe existir en la tabla FSD008 (Bantotal).\\nPBCD020,BNJTI1,Para cada registro ingresado en la tabla BNJTI1 verifica que corresponda a una persona ya migrada al sistema (FSD001) y que el código de Impuesto sea válido (FST215)\\nPBCD021,BNJTI2,Para cada registro de la BNJTI2 verifica que la operación Bantotal ingresada exista en el Sistema (FSD011) y en el caso de haber ingresado el Rubro Contable verifica su validez (FSD014)\\n</table>\\n\\n###Estados de Control:\\nTodas las tablas relativas a bandejas tienen un campo de control asociado, el cual inicialmente se almacena en ‘P’ (pendiente de proceso).  Esto permite que los programas de control se ejecuten sobre este valor:\\n<table>\\nTIPO,DESCRIPCIÓN,CONCEPTO\\nP,Pendiente de Proceso,Los registros en este estado serán procesados por los programas de control de datos. Los valores de salida posibles son ‘R’ o ‘X’.\\nR,En Proceso,Instancia de aprobación de los controles. Los registros en este estado serán procesados por el programa de vuelco de datos a Bantotal. Los valores de salida posible a este estado son ‘K’ o ‘C’.\\nX,Error de Condición de Control,El registro no cumple con algunas de las condiciones de control; por lo cual no es procesado. Debe volverse a estado ‘P’; a los efectos de ser reprocesado.\\nK,OK,El programa de vuelco procesó correctamente el registro.\\nC,Error de Contabilización,Se produjo un error de contabilización al ejecutar el vuelco a tablas Bantotal. Debe volverse a estado ‘R’; a los efectos de ser reprocesado.\\n</table>\\n\\n###Salidas de Proceso:\\nLos procesos de control de consistencia prevén la generación de un registro de error en la tabla BNJ902 (Log de errores).  Esta bandeja es depurada previamente a la ejecución del proceso de migración.\\nEl campo BD004Cswf de la BJD004 no es obligatorio.\\n<table>\\nPrograma,Código,Descripción\\nPBCD001,1,No existe País (FST013)\\nPBCD001,2,No existe Tipo de Documento (FST014)\\nPBCD001,20,Control de documento por país\\nPBCD001,3,Documento vacío\\nPBCD001,4,Tipo de persona incorrecto\\nPBCD001,5,Fecha de alta vacía\\nPBCD001,17,Fecha de alta incorrecta\\nPBCD001,6,Nombre persona vacío\\nPBCD001,8,Tipo de alta incorrecto\\nPBCD001,9,No existe canal de distribución\\nPBCD001,10,Tipo de documento no válido\\nPBCD001,11,Hubo algún error en controles de Persona Física\\nPBCD001,14,Hubo algún error en controles de Persona Jurídica\\nPBCD001,16,Hubo algún error en controles de Institución Financiera\\nPBCD001,30,Categoría incorrecta. Valores admitidos: Consumo (N); Comercial (S)  o Comercial Asimilable a Consumo (A).\\nPBCD001,1415,Hubo algún error en controles en PBXC001\\nPBCD001,1413,Hubo algún error en controles en PBCR001\\nPBCD001,1416,Hubo algún error en controles en PBNGC060\\nPBCD001,1606,Hubo algún error en controles en PBCE102\\n,,\\nPBCD0012,279,El campo Primer Apellido (BD002Ape1) es vacio o nulo.\\nPBCD0012,280,El campo Primer Nombre (BD002Nom1) es vacio o nulo.\\nPBCD0012,281,No se indico si la persona es empleado del banco (BD002Ebco).\\nPBCD0012,282,La fecha de ingreso al banco no puede ser vacia o nula ni mayor a la fecha de apertura del mismo (BD002Fibc).\\nPBCD0012,283,No puede tener una fecha de ingreso al banco si la persona no es empleado del mismo.\\nPBCD0012,284,No se indico sexo de la persona (BD002Cant).\\nPBCD0012,285,El campo fecha de nacimiento (BD002Fnac) es vacio o nulo.\\nPBCD0012,286,No se indico el estado civil (BD002Eciv) o el mismo no es un estado civil valido.\\nPBCD0012,287,No se indico el país de nacimiento (BD002Pnac) o el mismo no es un país valido.\\nPBCD0012,289,No se indico si la persona es ciudadano legal.\\nPBCD0012,291,Se indico un hobbie (BE002HobC) y el mismo no es uno valido.\\nPBCD0012,292,Se indico un Club (BE002Club) y el mismo no es uno valido.\\nPBCD0012,293,Se indico el nivel de educación (BE002NIns) y el mismo no es uno valido.\\nPBCD0012,294,No se indo la profesión de la persona (BE002PCod).\\nPBCD0012,295,Se indico la profesión de la persona (BE002PCod) y la misma no es una valida.\\nPBCD0012,296,Se indico la ocupación de la persona (BE002OCod) pero la misma no es una valida.\\nPBCD0012,297,No se indico la ocupación de la persona (BE002OCod).\\nPBCD0012,300,La persona es ciudadana legal de un país no valido (BE002PaiX).\\nPBCD0012,301,Se indico un vinculo (BE002VCod) y el mismo no es uno valido.\\nPBCD0012,302,Se indico un código de ocupación del cónyuge (BE002ConOcu) y el mismo no es uno valido.\\nPBCD0012,1218,El estado civil es casado y no se indico el cónyuge.\\nPBCD0012,1412,La fecha en la cual se inicio como profesiónal (BE002PDde) no puede ser vacia o nula.\\n,,\\nPBCD0013,24,Se indico el código de segmento (BE003TAct) y el mismo no es uno valido.\\nPBCD0013,353,El campo Razón social (BD003Razs) es vacio o nulo.\\nPBCD0013,354,El campo Naturaleza jurídica (BD003NjCod) es vacio o nulo; o el mismo no es uno valido.\\nPBCD0013,356,La fecha de constitución de la Persona Jurídica (BD003Fcon) es mayor a la fecha de apertura.\\nPBCD0013,357,La fecha de expiración de la Persona Jurídica (BD003Fexp) es menos a la fecha de constitución.\\nPBCD0013,358,El campo Número de Registro (BD003Nror) es vacio o nulo.\\nPBCD0013,359,No se indico si la Persona Jurídica presenta balance (BD003Pbal).\\nPBCD0013,360,No se indico la fecha de emisión de balance (BD003Fbal).\\nPBCD0013,361,Se indico la fecha de emisión de balance y la Persona Juridica no presenta balance.\\nPBCD0013,1021,El campo País (BD003Pais) es vacio o nulo; o el mismo no es uno valido.\\nPBCD0013,1430,El campo fecha de constitución de la Persona Jurídica (BD003Fcon) es vacio o nulo.\\nPBCD0013,1562,Se indico el código de actividad economica  1 (BD003AcE1) y el mismo no es uno valido.\\nPBCD0013,1563,Se indico el código de actividad economica  2 (BD003AcE2) y el mismo no es uno valido.\\nPBCD0013,1564,Se indico el código de actividad economica  3 (BD003AcE3) y el mismo no es uno valido.\\nPBCD0013,2100,El campo código de segmento (BE003TAct) es vacio o nulo.\\n,,\\nPBCD0014,405,No se indico el código de tipo de Institucion financiera (BD004Fcod) o el mismo no es uno valido.\\nPBCD0014,412,El campo código swift (BD004Swif) es vacio o nulo.\\nPBCD0014,407,No se indico si la institución requiere firmas autorizadas (BD004Faut).\\nPBCD0014,408,No se indico si la institución concede lineas de credito (BD004Lcrc).\\nPBCD0014,409,No se indico si la institución otorga lineas de credito (BD004Lcro).\\nPBCD0014,410,No se indico si la institución tiene cuenta nuestra en el exterior (BD004Cext).\\nPBCD0014,411,La institución no tiene cuenta nuestra en el exterior.\\n,,\\nPBCD005,5,No se indico localidad o la misma no es una valida.\\nPBCD005,9,El campo dirección (BNGC13DIR) se encuentra vacio o nulo.\\nPBCD005,420,La persona asociada al domiclio no existe.\\nPBCD005,421,El código de domicilio (Docod) no existe.\\nPBCD005,424,No se indico el departamento o el mismo no es uno valido.\\nPBCD005,427,El campo correlativo para los telefonos (BR005DOrd) es vacio o nulo.\\nPBCD005,428,El campo telefono (BR005Telf) es vacio o nulo.\\nPBCD005,505,La cuenta asociada al domicilio no existe.\\nPBCD005,867,El pais de documento no es un país valido en el sistema.\\nPBCD005,1417,No se registraron telefonos para el domicilio.\\nPBCD005,1418,El agrupador de direcciones es vacio o nulo o no es un agrupador valido.\\nPBCD005,1419,Los campos que indican la dirección se encuentran vacios o nulo. (BNGC13Dsc1; BNGC13Dsc2; BNGC13Dsc3; BNGC13Dsc4)\\nPBCD005,1420,No se indico el barrio o colonia o el mismo no es uno valido.\\nPBCD005,1421,El campo Fecha de recidencia desde (BNGC13RDes) vacía o nula.\\nPBCD005,1550,El campo tipo de telefono (BR005TTf) no es vacio o nulo.\\n,,\\nPBCD008,13,Número de Cuenta Obligatorio\\nPBCD008,14,Nombre de Cuenta Obligatorio\\nPBCD008,16,Ejecutivo inexistente\\nPBCD008,17,Código de Clasificación Interno inexistente\\nPBCD008,18,Fecha de alta obligatoria\\nPBCD008,28,Fecha de alta inválida\\nPBCD008,19,Valor de Retener Correspondencia inválido (S o N)\\nPBCD008,20,Sector inexistente\\nPBCD008,21,Marca Institución Financiera inválida (S o N)\\nPBCD008,22,Marca empleado inválida (S o N)\\nPBCD008,23,Marca proveedor inválida (S o N)\\nPBCD008,25,Sucursal Orígen inexistente\\nPBCD008,26,Fecha Venc. Clasif. Interna inválida\\nPBCD008,29,Domicilio Titular representativo inexistente\\nPBCD008,30,Titular Representativo inexistente\\nPBCD008,15,Marca residente obligatoria\\nPBCD008,24,Segmento inexistente\\nPBCD008,27,Actividad económica inválida\\nPBCD008,1590,Código de texto inexistente\\nPBCD008,1591,Renglón de Cuenta Obligatorio\\nPBCD008,1592,Texto vacío\\n,,\\nPBCD009,48,No existe grupo (FST031)\\nPBCD009,49,No existe cuenta (FSD008)\\nPBCD009,50,No existe código de integrante\\n,,\\nPBNGC60,927,Código de vínculo inexistente\\nPBNGC60,1226,Código de Ocupación inexistente\\nPBNGC60,305,Tipo de Actividad inexistente\\nPBNGC60,416,Actividad económica inexistente\\n,,\\nPBCR001,1205,País inexistente\\nPBCR001,1206,Tipo de documento inválido\\nPBCR001,1207,Número de documento obligatorio\\nPBCR001,1432,Fecha de Vencimiento del documento obligatoria\\nPBCR001,1208,Departamento inexistente\\nPBCR001,1209,Localidad Inexistente\\n,,\\nPBCX001,1275,Renglón obligatorio\\nPBCX001,1274,Tipo de texto inválido\\n,,\\nPBCE102,1136,Correlativo Obligatorio\\nPBCE102,1143,Correlativos faltantes\\nPBCE102,1137,Nombre Obligatorio\\nPBCE102,1138,Domicilio Obligatorio\\nPBCE102,1139,Teléfono Obligatorio\\nPBCE102,1140,Tipo de Referencia inválido\\nPBCE102,1141,Código de vínculo inexistente\\nPBCE102,1142,Código de vínculo de Persona Jurídica\\n,,\\nPBCR002,1211,La persona no existe o no es una persona fisica.\\nPBCR002,1212,La persona relacionada no existe o no es una persona fisica.\\nPBCR002,1213,No se indico el código de vinculo (BR002CCyg) o el mismo no es uno valido.\\nPBCR002,1214,El código de vinculo que se indico corresponde a una persona juridica.\\nPBCR002,1215,No se puede relacionar una persona consigo misma.\\nPBCR002,1216,Se indico el campo de sepración de bienes y el mismo no es necesario para el tipo de vinculo especificado.\\nPBCR002,1217,No se indico el campo de separación de bienes (BR002Prpat) o el mismo no es uno valido.\\nPBCR002,1218,La persona tiene una relación del tipo conyuge; su estado civil no puede ser soltero/a.\\n,,\\nPBCR004,1239,No existe Institución Financiera\\nPBCR004,1240,Cuenta en banco obligatoria\\nPBCR004,1241,No existe moneda\\n,,\\nPBCR003,1231,Persona Jurídica inexistente\\nPBCR003,1232,Persona no existente (FSD001)\\nPBCR003,1233,Tipo de persona debe ser física\\nPBCR003,1234,Persona Jurídica e integrante son iguales\\nPBCR003,1235,Código de vínculo inexistente\\nPBCR003,1236,Código de vínculo de persona física\\n,,\\nPBCR008,1242,La cuenta no esta registrada en Bantotal.\\nPBCR008,1243,La persona no esta registrada en Bantotal.\\nPBCR008,1244,El código de titularidad (BR008TCod) es vacio o nulo o no esta registrado en Bantotal.\\nPBCR008,1245,No es indico el tipo de firma (BR008TFir) o el mismo no es uno valido.\\nPBCR008,1246,La cuenta no debe tener mas de un titular representativo.\\nPBCR008,1247,La cuenta debe tener al menos un titular representativo.\\nPBCR008,1248,El representante de la cuenta no es titular.\\nPBCR008,1249,Ya existe una cuenta integrada por las mismas personas.\\n,,\\nPBCE108,1152,Fecha nula o Incorrecta\\nPBCE108,1153,Hora obligatoria\\nPBCE108,1154,Usuario Obligatorio\\nPBCE108,1155,Workstation obligatoria\\nPBCE108,1156,Marca Habilitado incorrecta\\nPBCE108,1151,No existe cuenta\\n,,\\nPBCE103,1152,Fecha nula o Incorrecta\\nPBCE103,1153,Hora obligatoria\\nPBCE103,1154,Usuario Obligatorio\\nPBCE103,1155,Workstation obligatoria\\nPBCE103,1156,Marca Habilitado incorrecta\\nPBCE103,1151,No existe cuenta\\n,,\\nPBCD201,112,Tipo de Lista inválido\\nPBCD201,113,Fecha de Actualización obligatoria\\nPBCD201,114,Fecha de Actualización inválida\\nPBCD201,141,Fecha de Inicio obligatoria\\nPBCD201,140,Fecha de inicio inválida\\nPBCD201,124,Fecha fin inválida\\nPBCD201,142,Fecha fin obligatoria\\nPBCD201,116,Fecha de inicio mayor que fecha fin\\nPBCD201,143,Documento obligatorio\\nPBCD201,121,No existe País\\nPBCD201,122,No existe Tipo de Documento\\n</table>\\n\\n<table>\\nPBCX001,1274,Tipo de texto no válido (FST027)\\nPBCX001,1275,Correlativo de Renglón obligatorio\\n</table>\\n\\n###Programas de Vuelco a Bantotal:\\nProgramas de Vuelco referidos a Personas:\\n<table>\\nPROGRAMA  DE VUELCO,BANDEJA ASOCIADA,DESCRIPCIÓN\\nPBPD001,BJD001,Dicho programa recorre la tabla BJD001; tomando aquellos registros con estado ‘R’; y volcándolos en la FSD001 de Bantotal.  Dependiendo del tipo de persona de que se trate (Física; Jurídica o Inst. Financiera) se invocará al PBPD002; al PBPD003; o bien al PBPD004 respectivamente. Cada uno de ellos recorrerá la tabla correspondiente: BJD002 o BJD003 o BJD004  respectivamente y volcándolos en la tabla FSD002 o FSD003 o FSD004 de Bantotal; según corresponda. También vuelca información en tablas SNGC11 y SNGC60 de las bandejas BNGC11 y BNGC60  respectivamente\\nPBPD005,BNGC13,Dicho programa recorre la tabla BNGC13; tomando aquellos registros con estado ‘R’; y volcándolos en la FSD005 y SNGC13 de Bantotal cuando se trata de Personas; en la FSD006 y SNGC32 para cuentas clientes.  A su vez; recorre la tabla BJR005 para la misma persona o cuenta que estamos procesando y se vuelcan dichos datos en la tabla FSR005 en el caso de Personas y en la FSR006 en el caso de cuentas clientes.\\nPBPD201,BJD201,Dicho programa recorre la tabla BJD201; tomando aquellos registros con estado ‘R’; y volcándolos en la tabla FSD201 de Bantotal.\\nPBPR001,BJR001,Dicho programa recorre la tabla BJR001 tomando aquellos registros con estado ‘R’; y volcándolos en la tabla FSR001 de Bantotal.\\nPBPR002,BJR002,Dicho programa recorre la tabla BJR002 tomando aquellos registros con estado ‘R’; y volcándolos en la tabla FSR002 de Bantotal.\\nPBPR003,BJR003,Dicho programa recorre la tabla BJR003 tomando aquellos registros con estado ‘R’; y volcándolos en la tabla FSR003 de Bantotal.\\nPBPR004,BJR004,Dicho programa recorre la tabla BJR004 tomando aquellos registros con estado ‘R’; y volcándolos en la tabla FSR004 de Bantotal.\\nPBPE101,BJE101,Dicho programa recorre la tabla BJE101; tomando aquellos registros con estado ‘R’; y volcándolos en la tabla FSE101 de Bantotal.\\nPBPE102,BJE102,Dicho programa recorre la tabla BJE102; tomando aquellos registros con estado ‘R’; y volcándolos en la tabla FSE102 de Bantotal.\\nPBPE103,BJE103,Dicho programa recorre la tabla BJE103; tomando aquellos registros con estado ‘R’; y volcándolos en la tabla FSE103 de Bantotal.\\nPBPX001,BJX001,Dicho programa recorre la tabla BJX001 tomando aquellos registros con estado ‘R’; y volcándolos en la tabla FSX001 de Bantotal.\\nPBPD020,BNJTI1,Dicho programa recorre la tabla BNJTI1 tomando aquellos registros con estado ‘R’; y volcándolos en la tabla TI0001 de Bantotal.\\n</table>\\n\\nProgramas de Vuelco referidos a Cuentas:\\n<table>\\nPROGRAMA  DE VUELCO,BANDEJA ASOCIADA,DESCRIPCIÓN\\nPBPD008,BJD008,Dicho programa recorre la tabla BJD008; tomando aquellos registros con estado ‘R’; y volcándolos en la tabla FSD008 de Bantotal.\\nPBPR008,BJR008,Dicho programa recorre la tabla BJR008 tomando aquellos registros con estado ‘R’; y volcándolos en la tabla FSR008 de Bantotal.\\nPBPD009,BJD009,Dicho programa recorre la tabla BJD009 tomando aquellos registros con estado ‘R’; y volcándolos en la tabla FSD009 de Bantotal.\\n,,\\nPBPX008,BJX008,Dicho programa recorre la tabla BJX008 tomando aquellos registros con estado ‘R’; y volcándolos en la tabla FSX008 de Bantotal.\\nPBPD021,BNJTI2,Dicho programa recorre la tabla BNJTI2 tomando aquellos registros con estado ‘R’; y volcándolos en la tabla TI0002 de Bantotal.\\nPBPE108,BJE108,Dicho programa recorre la tabla BJE108 tomando aquellos registros con estado ‘R’; y volcándolos en la tabla FSE108 de Bantotal.\\n</table>\\n\\n##Secuencia de Ejecución:\\nLos Pasos de Control son los siguientes:\\n<table>\\nDESCRIPCIÓN,BANDEJA,PROGRAMA,PREDECESORA\\nPersonas (todas),201,PBCD001,\\nDomicilios de Personas,202,PBCD005,201\\nListas Negras,203,PBCD201,201\\nRelaciones Personales,210,PBCR002,201\\nContacto Personas Jurídicas,200,PBCE103,201\\nIntegración Jurídicas,209,PBCR003,201\\nCuentas Financieras,204,PBCR004,201\\nCuentas Clientes,205,PBCD008,201\\nDomicilios Cuentas Clientes,206,PBCD005,205\\nIntegración de Cuentas,207,PBCR008,205\\nHabilitaciones de Cuentas,201,PBCE108,205\\nGrupos,208,PBCD009,205\\nTextos por Cuenta,201,PBCX008,205\\nImpuestos por Personas,200,PBCD020,201\\nImpuestos por Productos,201,PBCD021,205\\n</table>\\n\\nLos Pasos de Vuelco son los siguientes:\\n<table>\\nDESCRIPCIÓN,BANDEJA,PROGRAMA,PREDECESORA\\nPersonas,201,PBPD001,\\nDomicilios de Personas,,PBPD005,201\\nListas Negras,,PBPD201,201\\nContacto Personas Jurídicas,,PBPE103,201\\nRelaciones Personales,,PBPR002,201\\nPersonas Jurídicas,,PBPR003,201\\nCuentas Financieras,,PBPR004,205\\nCuentas Clientes,205,PBPD008,\\nHabilitaciones de Cuentas,,PBPE108,205\\nIntegración de Cuentas,,PBPR008,205\\nGrupos,,PBPD009,205\\nTextos por Cuenta,,PBPX008,205\\nImpuestos por Personas,,PBCD020,201\\nImpuestos por Productos,,PBCD021,205\\n</table>\\n'"
      ]
     },
     "execution_count": 7,
     "metadata": {},
     "output_type": "execute_result"
    }
   ],
   "source": [
    "manuales[3].get_section(\"1\")"
   ]
  },
  {
   "cell_type": "code",
   "execution_count": 37,
   "metadata": {},
   "outputs": [
    {
     "name": "stdout",
     "output_type": "stream",
     "text": [
      "./Manuales_migracion/Manual Acuerdos de Sobregiro\n",
      "./Manuales_migracion/Manual Acuerdos de Sobregiro\n",
      "./Manuales_migracion/Manual Chequeras\n",
      "./Manuales_migracion/Manual Chequeras\n",
      "./Manuales_migracion/Manual Cuentas Vistas\n",
      "./Manuales_migracion/Manual Cuentas Vistas\n",
      "./Manuales_migracion/Manual Cuentas y Personas\n",
      "./Manuales_migracion/Manual Cuentas y Personas\n",
      "./Manuales_migracion/Manual Depositos\n",
      "./Manuales_migracion/Manual Depositos\n",
      "./Manuales_migracion/Manual Descuentos\n",
      "./Manuales_migracion/Manual Descuentos\n",
      "./Manuales_migracion/Manual Facultades\n",
      "./Manuales_migracion/Manual Facultades\n",
      "./Manuales_migracion/Manual Garantias\n",
      "./Manuales_migracion/Manual Garantias\n",
      "./Manuales_migracion/Manual Lineas de Credito\n",
      "./Manuales_migracion/Manual Lineas de Credito\n",
      "./Manuales_migracion/Manual Microfinanzas\n",
      "./Manuales_migracion/Manual Microfinanzas\n",
      "./Manuales_migracion/Manual Proceso de Migracion\n",
      "./Manuales_migracion/Manual Proceso de Migracion\n",
      "./Manuales_migracion/Manual Prestamos\n",
      "./Manuales_migracion/Manual Prestamos\n",
      "./Manuales_migracion/Manual Saldos Iniciales\n",
      "./Manuales_migracion/Manual Saldos Iniciales\n",
      "./Manuales_migracion/Manual Tarjetas de Debito\n",
      "./Manuales_migracion/Manual Tarjetas de Debito\n"
     ]
    }
   ],
   "source": [
    "path = \"./Manuales_migracion/\"\n",
    "for instance in manuales:\n",
    "    print(path + instance.title)\n",
    "    with open(path + instance.title + \".dill\", 'wb') as file:\n",
    "        dill.dump(file)"
   ]
  },
  {
   "cell_type": "code",
   "execution_count": 24,
   "metadata": {},
   "outputs": [
    {
     "name": "stdout",
     "output_type": "stream",
     "text": [
      "1 Ciclo de Migraciones\n",
      "\t1.1 Introducción\n",
      "\t1.2 Migraciones Previas\n",
      "\t\t1.2.1 Migración de Saldos Iniciales\n",
      "\t\t1.2.2 Migración de Clientes\n",
      "\t1.3 Generación de Estructuras de Bandejas\n",
      "\t1.4 Control de Calidad de Datos de Bandejas\n",
      "\t\t1.4.1 Programas de Control\n",
      "\t\t1.4.2 Estados de Control\n",
      "\t\t1.4.3 Salidas de Proceso\n",
      "\t\t1.4.4 Programas de Vuelco a Bantotal\n",
      "\t1.5 Secuencia de Ejecución\n",
      "2 Diseño de Tablas de Bandejas\n",
      "\t2.1 Tabla BNJ002\n",
      "3 Transacciones de Migraciones\n",
      "\t3.1 Migración Garantías Recibidas\n",
      "\t\t3.1.1 Productos Garantías Recibidas Predefinidos\n",
      "\t\t3.1.2 Transacción Migración Garantías Recibidas (módulo 499, transacción 210)\n",
      "\t\t3.1.3 Ajuste a la Operativa del Banco\n"
     ]
    }
   ],
   "source": [
    "print(man_gar.get_index())"
   ]
  },
  {
   "cell_type": "code",
   "execution_count": 54,
   "metadata": {},
   "outputs": [],
   "source": [
    "import re\n",
    "\n",
    "\n",
    "def parse_tables(input_string):\n",
    "    # Dictionary to hold the result\n",
    "    result = {}\n",
    "\n",
    "    # Regular expression to capture table blocks and names\n",
    "    table_blocks = re.findall(r'(\\d+\\.\\d+ Tabla (\\w+):.*?)(?=\\d+\\.\\d+ Tabla |\\Z)', input_string, re.DOTALL)\n",
    "\n",
    "    for block, table_name in table_blocks:\n",
    "        # Extract the description using a modified regular expression\n",
    "        desc_match = re.search(r'\\d+\\.\\d+ Tabla \\w+:(.*?)(?=<table>)', block, re.DOTALL)\n",
    "        description = desc_match.group(1).strip() if desc_match else \"No description available\"\n",
    "\n",
    "        # Extract CSV records within <table> tags\n",
    "        records_match = re.search(r'<table>\\s*(.*?)\\s*</table>', block, re.DOTALL)\n",
    "        records = records_match.group(1) if records_match else \"No records available\"\n",
    "\n",
    "        # Adding table info to the result dictionary\n",
    "        result[table_name] = {\n",
    "            \"descripcion\": description,\n",
    "            \"registros\": records\n",
    "        }\n",
    "\n",
    "    return result\n"
   ]
  },
  {
   "cell_type": "code",
   "execution_count": 55,
   "metadata": {},
   "outputs": [],
   "source": [
    "bandejas = {}\n",
    "for manual in manuales:\n",
    "    bandejas[manual.title] = parse_tables(manual.get_section(\"2\"))"
   ]
  },
  {
   "cell_type": "code",
   "execution_count": 56,
   "metadata": {},
   "outputs": [
    {
     "data": {
      "text/plain": [
       "{'descripcion': 'Almacena información relativa a todas las personas Físicas.\\nTabla equivalente Bantotal: FSD002 y FSE002',\n",
       " 'registros': 'NOMBRE,DESCRIPCIÓN,TIPO,DETALLE\\nBD002Band,Bandeja,N (4.0),\\nBD002Pais,País del Documento,N (3.0),País del documento de la persona (FST013).\\nBD002Tdoc,Tipo de Documento,N (4.0),Tipo de documento de la persona (FST014).\\nBD002Ndoc,Documento,C (25),Número de documento de la persona; no nulo. Dato Obligatorio.\\nBD002Ape1,1er. Apellido,C (30),Primer Apellido.  Dato obligatorio.\\nBD002Ape2,2o. Apellido,C (30),Segundo Apellido. Dato no obligatorio.\\nBD002Nom1,1er. Nombre,C (25),Primer Nombre. Dato obligatorio.\\nBD002Nom2,2do. Nombre,C (25),Segundo Nombre.  Dato no obligatorio.\\nBD002Ebco,Empleado del Banco,C (1),Si es empleado del Banco ‘S’ o ‘N’.\\nBD002Fibc,F/Ingreso al Banco,D,En caso de ser empleado; la fecha en que ingresó al Banco la cual debe ser menor al día de migración; si no es empleado; esta fecha debe ser nula.\\nBD002Cant,Sexo,C (1),‘F’ femenino; ‘M’ masculino.\\nBD002Fnac,F/Nacimiento,D,Fecha de Nacimiento; menor al día de migración.\\nBD002Eciv,Estado Civil,C (1),Estado Civil (FST009)\\nBD002Pnac,País de Nacimiento,N (3.0),País de Nacimiento (FST013).\\nBD002Lnac,Lugar de Nacimiento,C (20),Lugar de nacimiento.  Dato no obligatorio.\\nBD002Cleg,Ciudadano legal (S/N),C (1),En caso de ser Ciudadano Legal ‘S’; de lo contrario ‘N’.\\nBE002HobC,Hobbie,N (3.0),No Obligatorio (FST108).\\nBE002Club,Club,N (5.0),No Obligatorio (FST109).\\nBE002NIns,Código,N (3.0),Nivel de Educación (FST114). Dato no Obligatorio.\\nBE002PCod,Profesión,N (3.0),(FST115). Dato no Obligatorio\\nBE002PDde,Fecha desde Profesión,D,Fecha desde la cual se dedica a dicha profesión; o bien es egresada de ella.\\nBE002OCod,Ocupación,N (5.0),Obligatorio (SNGC07).\\nBE002VCod,Vínculo,N (4.0),Con la empresa en donde trabaja (FST020) Dato No Obligatorio.\\nBE002Empr,Empresa donde trabaja,C (50),Dato no obligatorio.\\nBE002CHij,Cantidad de Hijos,N (3.0),Dato no Obligatorio.\\nBE002PaiX,País,N (3.0),País de Ciudadanía (FST013).\\nBE002FIni,Fecha de Inicio,D,Fecha desde que trabaja en la Empresa.\\nBE002TVnd,Tipo de Vivienda,C (1),Arrendada ‘A’; Familiar ‘F’; Propia ‘P’. No Obligatorio\\nBE002Tres,Tiempo de Residencia,N (3.0),En años. Dato no Obligatorio.\\nBE002NArr,Nombre Arrendador,C (50),En caso de tratarse de vivienda Arrendada ‘A’; el nombre del arrendador. Dato no Obligatorio.\\nBE002TArr,Teléfono del Arrendador,C (50),En caso de tratarse de vivienda Arrendada ‘A’; teléfono del arrendador. Dato no Obligatorio.\\nBE002DAn1,Domicilio Empleo Anterior,C (50),Dato no Obligatorio.\\nBE002DAn2,Domicilio Empleo Anterior,C (50),Dato no Obligatorio.\\nBE002TAnt,Teléfono Empleo Anterior,C (50),Dato no Obligatorio.\\nBE002PAnt,Patrón Empleo Anterior,C (50),Dato no Obligatorio.\\nBE002AntT,Tiempo Empleo Anterior,N (3.0),En años. Dato no Obligatorio.\\nBE002CAnt,Cargo Empleo Anterior,C (50),Dato no Obligatorio.\\nBE002AInd,Actividad Independiente,C (50),Dato no Obligatorio.\\nBE002Fing,Fecha de Ingreso,D,Dato no Obligatorio.\\nBE002EAct,Nombre Empleo Actual,C (50),Dato no Obligatorio.\\nBE002CAct,Cargo Actual,C (50),Dato no Obligatorio.\\nBE002DAc1,Domicilio Empleo Actual,C (50),Dato no Obligatorio.\\nBE002DAc2,Domicilio Empleo Actual,C (50),Dato no Obligatorio.\\nBE002TAct,Teléfono Empleo Actual,C (50),Dato no Obligatorio.\\nBE002IngM,Ingreso Real Mensual,N (18.2) -,Dato no Obligatorio.\\nBE002IngS,Salario Mensual,N (18.2) -,Dato no Obligatorio.\\nBE002IngO,Otros Ingresos,N (18.2) -,Dato no Obligatorio.\\nBE002IngR,Referencia,C (50),Dato no Obligatorio.\\nBE002SalC,Salario Mensual Cónyuge,N (18.2) -,Dato no Obligatorio.\\nBE002OtrC,Otros Ingresos Cónyuge,N (18.2) -,Dato no Obligatorio.\\nBE002RefC,Referencia Cónyuge,C (50),Dato no Obligatorio.\\nBE002IEgr,Egresos,N (18.2) -,Dato no Obligatorio.\\nBE002Hipo,Hipoteca,C (1),Dato no Obligatorio.\\nBE002SHip,Saldo Hipoteca,N (18.2) -,Dato no Obligatorio.\\nBE002Chip,Cuota Hipoteca,N (18.2),Dato no Obligatorio.\\nBE002STar,Saldo Tarjeta,N (18.2) -,Dato no Obligatorio.\\nBE002CTar,Cuota Tarjeta,N (18.2) -,Dato no Obligatorio.\\nBE002SPre,Saldo Préstamos,N (18.2) -,Dato no Obligatorio.\\nBE002CPre,Cuota Préstamos,N (18.2) -,Dato no Obligatorio.\\nBE002GAlq,Alquiler,N (18.2) -,En caso de tratarse de vivienda Arrendada ‘A’; el valor del alquiler.\\nBE002GFam,Gastos Familiares Mensuales,N (18.2) -,Dato no Obligatorio.\\nBE002GOtr,Otros Gastos,N (18.2) -,Dato no Obligatorio.\\nBE002GRef,Referencia Gastos,C (50),Dato no Obligatorio.\\nBE002TInm,Total Inmuebles,N (18.2) -,Dato no Obligatorio.\\nBE002TVeh,Total Vehículos,N (18.2),Dato no Obligatorio.\\nBE002TAcO,Total Otros Activos,N (18.2),Dato no Obligatorio.\\nBE002OAcR,Referencia Otros Activos,C (50),Dato no Obligatorio.\\nBE002PrdAp,Apellido del Padre,C (30),Dato no Obligatorio.\\nBE002PrdNo,Nombre del Padre,C (30),Dato no Obligatorio.\\nBE002MrdAp,Apellido de la madre,C (30),Dato no Obligatorio.\\nBE002MrdNo,Nombre de la madre,C (30),Dato no Obligatorio.\\nBE002ConAp,Apellido del cónyuge,C (30),Dato no Obligatorio.\\nBE002ConNo,Nombre del cónyuge,C (30),Dato no Obligatorio.\\nBE002ConOc,Ocupación del cónyuge,N (5.0),Ocupación del Cónyuge. Dato no obligatorio (FST116).\\nBE002AxC1,Auxiliar 1,C (10),Auxiliar 1\\nBE002FFal,Fecha de Fallecido,D,Fecha de Fallecido\\nBD002Est,Estado,C (1),Ver descripción de estados en 1.4.2.\\nBD002NDE,Número de Dependientes,N (3.0),Dato no Obligatorio.\\nBD002TIA,Tipo de Actividad,N (3.0),Dato no Obligatorio.\\nBD002Pres,País de Residencia,N(3.0),Se controla qué sea un país existente\\nBD002LgNac,Lugar de Nacimiento,C(60),Dato no obligatorio\\nBD002PerSu,Persona Superior,C(1),Se carga si es empleado de la institución'}"
      ]
     },
     "execution_count": 56,
     "metadata": {},
     "output_type": "execute_result"
    }
   ],
   "source": [
    "bandejas[\"Manual Cuentas y Personas\"][\"BJD002\"]"
   ]
  },
  {
   "cell_type": "code",
   "execution_count": 57,
   "metadata": {},
   "outputs": [],
   "source": [
    "# guardo el diccionario en un archivo dill\n",
    "\n",
    "with open('bandejas.dill', 'wb') as file:\n",
    "    dill.dump(bandejas, file)\n",
    "\n",
    "\n",
    "# Y lo levanto\n",
    "with open('bandejas.dill', 'rb') as file:\n",
    "    bandejas = dill.load(file)"
   ]
  }
 ],
 "metadata": {
  "kernelspec": {
   "display_name": "Python 3",
   "language": "python",
   "name": "python3"
  },
  "language_info": {
   "codemirror_mode": {
    "name": "ipython",
    "version": 3
   },
   "file_extension": ".py",
   "mimetype": "text/x-python",
   "name": "python",
   "nbconvert_exporter": "python",
   "pygments_lexer": "ipython3",
   "version": "3.11.7"
  }
 },
 "nbformat": 4,
 "nbformat_minor": 2
}
