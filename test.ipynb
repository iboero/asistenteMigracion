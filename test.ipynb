{
 "cells": [
  {
   "cell_type": "code",
   "execution_count": 26,
   "metadata": {},
   "outputs": [],
   "source": [
    "import dill\n",
    "import os\n",
    "path = \"./Manuales_migracion/\"\n",
    "manuales = []\n",
    "for filename in os.listdir(path):\n",
    "    with open(path + filename, 'rb') as file:\n",
    "        manuales.append(dill.load(file))\n",
    "for m in manuales:\n",
    "    if m.title == \"Manual Proceso de Migracion\":\n",
    "        manuales.remove(m)\n",
    "        manual_general = m"
   ]
  },
  {
   "cell_type": "code",
   "execution_count": 23,
   "metadata": {},
   "outputs": [],
   "source": [
    "for m in manuales:\n",
    "    if m.title == \"Manual Garantias\":\n",
    "        manuales.remove(m)\n",
    "        man_gar = m"
   ]
  },
  {
   "cell_type": "code",
   "execution_count": 24,
   "metadata": {},
   "outputs": [
    {
     "name": "stdout",
     "output_type": "stream",
     "text": [
      "1 Ciclo de Migraciones\n",
      "\t1.1 Introducción\n",
      "\t1.2 Migraciones Previas\n",
      "\t\t1.2.1 Migración de Saldos Iniciales\n",
      "\t\t1.2.2 Migración de Clientes\n",
      "\t1.3 Generación de Estructuras de Bandejas\n",
      "\t1.4 Control de Calidad de Datos de Bandejas\n",
      "\t\t1.4.1 Programas de Control\n",
      "\t\t1.4.2 Estados de Control\n",
      "\t\t1.4.3 Salidas de Proceso\n",
      "\t\t1.4.4 Programas de Vuelco a Bantotal\n",
      "\t1.5 Secuencia de Ejecución\n",
      "2 Diseño de Tablas de Bandejas\n",
      "\t2.1 Tabla BNJ002\n",
      "3 Transacciones de Migraciones\n",
      "\t3.1 Migración Garantías Recibidas\n",
      "\t\t3.1.1 Productos Garantías Recibidas Predefinidos\n",
      "\t\t3.1.2 Transacción Migración Garantías Recibidas (módulo 499, transacción 210)\n",
      "\t\t3.1.3 Ajuste a la Operativa del Banco\n"
     ]
    }
   ],
   "source": [
    "print(man_gar.get_index())"
   ]
  },
  {
   "cell_type": "code",
   "execution_count": 54,
   "metadata": {},
   "outputs": [],
   "source": [
    "import re\n",
    "\n",
    "\n",
    "def parse_tables(input_string):\n",
    "    # Dictionary to hold the result\n",
    "    result = {}\n",
    "\n",
    "    # Regular expression to capture table blocks and names\n",
    "    table_blocks = re.findall(r'(\\d+\\.\\d+ Tabla (\\w+):.*?)(?=\\d+\\.\\d+ Tabla |\\Z)', input_string, re.DOTALL)\n",
    "\n",
    "    for block, table_name in table_blocks:\n",
    "        # Extract the description using a modified regular expression\n",
    "        desc_match = re.search(r'\\d+\\.\\d+ Tabla \\w+:(.*?)(?=<table>)', block, re.DOTALL)\n",
    "        description = desc_match.group(1).strip() if desc_match else \"No description available\"\n",
    "\n",
    "        # Extract CSV records within <table> tags\n",
    "        records_match = re.search(r'<table>\\s*(.*?)\\s*</table>', block, re.DOTALL)\n",
    "        records = records_match.group(1) if records_match else \"No records available\"\n",
    "\n",
    "        # Adding table info to the result dictionary\n",
    "        result[table_name] = {\n",
    "            \"descripcion\": description,\n",
    "            \"registros\": records\n",
    "        }\n",
    "\n",
    "    return result\n"
   ]
  },
  {
   "cell_type": "code",
   "execution_count": 55,
   "metadata": {},
   "outputs": [],
   "source": [
    "bandejas = {}\n",
    "for manual in manuales:\n",
    "    bandejas[manual.title] = parse_tables(manual.get_section(\"2\"))"
   ]
  },
  {
   "cell_type": "code",
   "execution_count": 56,
   "metadata": {},
   "outputs": [
    {
     "data": {
      "text/plain": [
       "{'descripcion': 'Almacena información relativa a todas las personas Físicas.\\nTabla equivalente Bantotal: FSD002 y FSE002',\n",
       " 'registros': 'NOMBRE,DESCRIPCIÓN,TIPO,DETALLE\\nBD002Band,Bandeja,N (4.0),\\nBD002Pais,País del Documento,N (3.0),País del documento de la persona (FST013).\\nBD002Tdoc,Tipo de Documento,N (4.0),Tipo de documento de la persona (FST014).\\nBD002Ndoc,Documento,C (25),Número de documento de la persona; no nulo. Dato Obligatorio.\\nBD002Ape1,1er. Apellido,C (30),Primer Apellido.  Dato obligatorio.\\nBD002Ape2,2o. Apellido,C (30),Segundo Apellido. Dato no obligatorio.\\nBD002Nom1,1er. Nombre,C (25),Primer Nombre. Dato obligatorio.\\nBD002Nom2,2do. Nombre,C (25),Segundo Nombre.  Dato no obligatorio.\\nBD002Ebco,Empleado del Banco,C (1),Si es empleado del Banco ‘S’ o ‘N’.\\nBD002Fibc,F/Ingreso al Banco,D,En caso de ser empleado; la fecha en que ingresó al Banco la cual debe ser menor al día de migración; si no es empleado; esta fecha debe ser nula.\\nBD002Cant,Sexo,C (1),‘F’ femenino; ‘M’ masculino.\\nBD002Fnac,F/Nacimiento,D,Fecha de Nacimiento; menor al día de migración.\\nBD002Eciv,Estado Civil,C (1),Estado Civil (FST009)\\nBD002Pnac,País de Nacimiento,N (3.0),País de Nacimiento (FST013).\\nBD002Lnac,Lugar de Nacimiento,C (20),Lugar de nacimiento.  Dato no obligatorio.\\nBD002Cleg,Ciudadano legal (S/N),C (1),En caso de ser Ciudadano Legal ‘S’; de lo contrario ‘N’.\\nBE002HobC,Hobbie,N (3.0),No Obligatorio (FST108).\\nBE002Club,Club,N (5.0),No Obligatorio (FST109).\\nBE002NIns,Código,N (3.0),Nivel de Educación (FST114). Dato no Obligatorio.\\nBE002PCod,Profesión,N (3.0),(FST115). Dato no Obligatorio\\nBE002PDde,Fecha desde Profesión,D,Fecha desde la cual se dedica a dicha profesión; o bien es egresada de ella.\\nBE002OCod,Ocupación,N (5.0),Obligatorio (SNGC07).\\nBE002VCod,Vínculo,N (4.0),Con la empresa en donde trabaja (FST020) Dato No Obligatorio.\\nBE002Empr,Empresa donde trabaja,C (50),Dato no obligatorio.\\nBE002CHij,Cantidad de Hijos,N (3.0),Dato no Obligatorio.\\nBE002PaiX,País,N (3.0),País de Ciudadanía (FST013).\\nBE002FIni,Fecha de Inicio,D,Fecha desde que trabaja en la Empresa.\\nBE002TVnd,Tipo de Vivienda,C (1),Arrendada ‘A’; Familiar ‘F’; Propia ‘P’. No Obligatorio\\nBE002Tres,Tiempo de Residencia,N (3.0),En años. Dato no Obligatorio.\\nBE002NArr,Nombre Arrendador,C (50),En caso de tratarse de vivienda Arrendada ‘A’; el nombre del arrendador. Dato no Obligatorio.\\nBE002TArr,Teléfono del Arrendador,C (50),En caso de tratarse de vivienda Arrendada ‘A’; teléfono del arrendador. Dato no Obligatorio.\\nBE002DAn1,Domicilio Empleo Anterior,C (50),Dato no Obligatorio.\\nBE002DAn2,Domicilio Empleo Anterior,C (50),Dato no Obligatorio.\\nBE002TAnt,Teléfono Empleo Anterior,C (50),Dato no Obligatorio.\\nBE002PAnt,Patrón Empleo Anterior,C (50),Dato no Obligatorio.\\nBE002AntT,Tiempo Empleo Anterior,N (3.0),En años. Dato no Obligatorio.\\nBE002CAnt,Cargo Empleo Anterior,C (50),Dato no Obligatorio.\\nBE002AInd,Actividad Independiente,C (50),Dato no Obligatorio.\\nBE002Fing,Fecha de Ingreso,D,Dato no Obligatorio.\\nBE002EAct,Nombre Empleo Actual,C (50),Dato no Obligatorio.\\nBE002CAct,Cargo Actual,C (50),Dato no Obligatorio.\\nBE002DAc1,Domicilio Empleo Actual,C (50),Dato no Obligatorio.\\nBE002DAc2,Domicilio Empleo Actual,C (50),Dato no Obligatorio.\\nBE002TAct,Teléfono Empleo Actual,C (50),Dato no Obligatorio.\\nBE002IngM,Ingreso Real Mensual,N (18.2) -,Dato no Obligatorio.\\nBE002IngS,Salario Mensual,N (18.2) -,Dato no Obligatorio.\\nBE002IngO,Otros Ingresos,N (18.2) -,Dato no Obligatorio.\\nBE002IngR,Referencia,C (50),Dato no Obligatorio.\\nBE002SalC,Salario Mensual Cónyuge,N (18.2) -,Dato no Obligatorio.\\nBE002OtrC,Otros Ingresos Cónyuge,N (18.2) -,Dato no Obligatorio.\\nBE002RefC,Referencia Cónyuge,C (50),Dato no Obligatorio.\\nBE002IEgr,Egresos,N (18.2) -,Dato no Obligatorio.\\nBE002Hipo,Hipoteca,C (1),Dato no Obligatorio.\\nBE002SHip,Saldo Hipoteca,N (18.2) -,Dato no Obligatorio.\\nBE002Chip,Cuota Hipoteca,N (18.2),Dato no Obligatorio.\\nBE002STar,Saldo Tarjeta,N (18.2) -,Dato no Obligatorio.\\nBE002CTar,Cuota Tarjeta,N (18.2) -,Dato no Obligatorio.\\nBE002SPre,Saldo Préstamos,N (18.2) -,Dato no Obligatorio.\\nBE002CPre,Cuota Préstamos,N (18.2) -,Dato no Obligatorio.\\nBE002GAlq,Alquiler,N (18.2) -,En caso de tratarse de vivienda Arrendada ‘A’; el valor del alquiler.\\nBE002GFam,Gastos Familiares Mensuales,N (18.2) -,Dato no Obligatorio.\\nBE002GOtr,Otros Gastos,N (18.2) -,Dato no Obligatorio.\\nBE002GRef,Referencia Gastos,C (50),Dato no Obligatorio.\\nBE002TInm,Total Inmuebles,N (18.2) -,Dato no Obligatorio.\\nBE002TVeh,Total Vehículos,N (18.2),Dato no Obligatorio.\\nBE002TAcO,Total Otros Activos,N (18.2),Dato no Obligatorio.\\nBE002OAcR,Referencia Otros Activos,C (50),Dato no Obligatorio.\\nBE002PrdAp,Apellido del Padre,C (30),Dato no Obligatorio.\\nBE002PrdNo,Nombre del Padre,C (30),Dato no Obligatorio.\\nBE002MrdAp,Apellido de la madre,C (30),Dato no Obligatorio.\\nBE002MrdNo,Nombre de la madre,C (30),Dato no Obligatorio.\\nBE002ConAp,Apellido del cónyuge,C (30),Dato no Obligatorio.\\nBE002ConNo,Nombre del cónyuge,C (30),Dato no Obligatorio.\\nBE002ConOc,Ocupación del cónyuge,N (5.0),Ocupación del Cónyuge. Dato no obligatorio (FST116).\\nBE002AxC1,Auxiliar 1,C (10),Auxiliar 1\\nBE002FFal,Fecha de Fallecido,D,Fecha de Fallecido\\nBD002Est,Estado,C (1),Ver descripción de estados en 1.4.2.\\nBD002NDE,Número de Dependientes,N (3.0),Dato no Obligatorio.\\nBD002TIA,Tipo de Actividad,N (3.0),Dato no Obligatorio.\\nBD002Pres,País de Residencia,N(3.0),Se controla qué sea un país existente\\nBD002LgNac,Lugar de Nacimiento,C(60),Dato no obligatorio\\nBD002PerSu,Persona Superior,C(1),Se carga si es empleado de la institución'}"
      ]
     },
     "execution_count": 56,
     "metadata": {},
     "output_type": "execute_result"
    }
   ],
   "source": [
    "bandejas[\"Manual Cuentas y Personas\"][\"BJD002\"]"
   ]
  },
  {
   "cell_type": "code",
   "execution_count": 57,
   "metadata": {},
   "outputs": [],
   "source": [
    "# guardo el diccionario en un archivo dill\n",
    "\n",
    "with open('bandejas.dill', 'wb') as file:\n",
    "    dill.dump(bandejas, file)\n",
    "\n",
    "\n",
    "# Y lo levanto\n",
    "with open('bandejas.dill', 'rb') as file:\n",
    "    bandejas = dill.load(file)"
   ]
  }
 ],
 "metadata": {
  "kernelspec": {
   "display_name": "Python 3",
   "language": "python",
   "name": "python3"
  },
  "language_info": {
   "codemirror_mode": {
    "name": "ipython",
    "version": 3
   },
   "file_extension": ".py",
   "mimetype": "text/x-python",
   "name": "python",
   "nbconvert_exporter": "python",
   "pygments_lexer": "ipython3",
   "version": "3.11.7"
  }
 },
 "nbformat": 4,
 "nbformat_minor": 2
}
